{
 "cells": [
  {
   "cell_type": "code",
   "execution_count": 4,
   "id": "d699f0dc",
   "metadata": {
    "scrolled": false
   },
   "outputs": [
    {
     "data": {
      "application/vnd.jupyter.widget-view+json": {
       "model_id": "d869400bc1e0473faafdbde1cd6c5961",
       "version_major": 2,
       "version_minor": 0
      },
      "text/plain": [
       "Checkbox(value=False, description='Check if it is an underwater detonation', indent=False)"
      ]
     },
     "metadata": {},
     "output_type": "display_data"
    },
    {
     "data": {
      "application/vnd.jupyter.widget-view+json": {
       "model_id": "40144bc2b730449da4d28a88a3aa3d11",
       "version_major": 2,
       "version_minor": 0
      },
      "text/plain": [
       "Dropdown(description='Select Map:', options=('Pearl Harbor', 'Norfolk Naval Station, Virginia', 'Middle of the…"
      ]
     },
     "metadata": {},
     "output_type": "display_data"
    },
    {
     "data": {
      "application/vnd.jupyter.widget-view+json": {
       "model_id": "1ce68cb2597a407bb437daa5ed60c40e",
       "version_major": 2,
       "version_minor": 0
      },
      "text/plain": [
       "Label(value='Yield Input (kt):')"
      ]
     },
     "metadata": {},
     "output_type": "display_data"
    },
    {
     "data": {
      "application/vnd.jupyter.widget-view+json": {
       "model_id": "4c962dc3ca8248608e63a3174c5f6340",
       "version_major": 2,
       "version_minor": 0
      },
      "text/plain": [
       "FloatText(value=0.0)"
      ]
     },
     "metadata": {},
     "output_type": "display_data"
    },
    {
     "data": {
      "application/vnd.jupyter.widget-view+json": {
       "model_id": "af9ec45be7374ca18211225505c25dfb",
       "version_major": 2,
       "version_minor": 0
      },
      "text/plain": [
       "Button(description='Enter', style=ButtonStyle())"
      ]
     },
     "metadata": {},
     "output_type": "display_data"
    },
    {
     "data": {
      "application/vnd.jupyter.widget-view+json": {
       "model_id": "01983c96c2404d1d8812f5cc98bff55f",
       "version_major": 2,
       "version_minor": 0
      },
      "text/plain": [
       "Textarea(value='', layout=Layout(height='50px', width='200px'))"
      ]
     },
     "metadata": {},
     "output_type": "display_data"
    },
    {
     "data": {
      "application/vnd.jupyter.widget-view+json": {
       "model_id": "7fc1991d4f244416b18de44508c0fd1f",
       "version_major": 2,
       "version_minor": 0
      },
      "text/plain": [
       "Label(value='Height/Depth of Burst Input (m):')"
      ]
     },
     "metadata": {},
     "output_type": "display_data"
    },
    {
     "data": {
      "application/vnd.jupyter.widget-view+json": {
       "model_id": "ae625cdae8e64b2b945dd54cf76efee5",
       "version_major": 2,
       "version_minor": 0
      },
      "text/plain": [
       "FloatText(value=0.0)"
      ]
     },
     "metadata": {},
     "output_type": "display_data"
    },
    {
     "data": {
      "application/vnd.jupyter.widget-view+json": {
       "model_id": "a99de46bbb194f14832090f5b0e9959b",
       "version_major": 2,
       "version_minor": 0
      },
      "text/plain": [
       "Button(description='Enter', style=ButtonStyle())"
      ]
     },
     "metadata": {},
     "output_type": "display_data"
    },
    {
     "data": {
      "application/vnd.jupyter.widget-view+json": {
       "model_id": "da5d1f37e53641089ab45b7019bdb398",
       "version_major": 2,
       "version_minor": 0
      },
      "text/plain": [
       "Textarea(value='', layout=Layout(height='50px', width='200px'))"
      ]
     },
     "metadata": {},
     "output_type": "display_data"
    },
    {
     "data": {
      "application/vnd.jupyter.widget-view+json": {
       "model_id": "8391bc1df15e4ab98d891867e616f7cb",
       "version_major": 2,
       "version_minor": 0
      },
      "text/plain": [
       "Map(center=[21.3445, -157.9746], controls=(ZoomControl(options=['position', 'zoom_in_text', 'zoom_in_title', '…"
      ]
     },
     "metadata": {},
     "output_type": "display_data"
    },
    {
     "data": {
      "application/vnd.jupyter.widget-view+json": {
       "model_id": "2132b85cb5064cdfbcc30fd4e658947f",
       "version_major": 2,
       "version_minor": 0
      },
      "text/plain": [
       "Button(description='Clear Ships', style=ButtonStyle())"
      ]
     },
     "metadata": {},
     "output_type": "display_data"
    },
    {
     "data": {
      "application/vnd.jupyter.widget-view+json": {
       "model_id": "9d74b393d6ed46348648021a370d4152",
       "version_major": 2,
       "version_minor": 0
      },
      "text/plain": [
       "HBox(children=(Button(description='Add Carrier', style=ButtonStyle()), Button(description='Add Cruiser', style…"
      ]
     },
     "metadata": {},
     "output_type": "display_data"
    },
    {
     "data": {
      "application/vnd.jupyter.widget-view+json": {
       "model_id": "305f2305188945189fb9c8b73f54ff3e",
       "version_major": 2,
       "version_minor": 0
      },
      "text/plain": [
       "Button(description='Finalize Ship Location', style=ButtonStyle())"
      ]
     },
     "metadata": {},
     "output_type": "display_data"
    },
    {
     "data": {
      "application/vnd.jupyter.widget-view+json": {
       "model_id": "e9c925cd313a461b944fc7a37e1162e3",
       "version_major": 2,
       "version_minor": 0
      },
      "text/plain": [
       "Textarea(value='', layout=Layout(height='100px', width='600px'))"
      ]
     },
     "metadata": {},
     "output_type": "display_data"
    },
    {
     "data": {
      "application/vnd.jupyter.widget-view+json": {
       "model_id": "7810d8b19bed4d80a722a3af46bf453d",
       "version_major": 2,
       "version_minor": 0
      },
      "text/plain": [
       "Label(value='Peak Overpressure Calculation')"
      ]
     },
     "metadata": {},
     "output_type": "display_data"
    },
    {
     "data": {
      "application/vnd.jupyter.widget-view+json": {
       "model_id": "873e5c10ecbf4c12b6ca788f7040704b",
       "version_major": 2,
       "version_minor": 0
      },
      "text/plain": [
       "Button(description='Calculate', style=ButtonStyle())"
      ]
     },
     "metadata": {},
     "output_type": "display_data"
    },
    {
     "data": {
      "application/vnd.jupyter.widget-view+json": {
       "model_id": "dd609111b88342eb80fc17e604c7a018",
       "version_major": 2,
       "version_minor": 0
      },
      "text/plain": [
       "Textarea(value='', layout=Layout(height='100px', width='600px'))"
      ]
     },
     "metadata": {},
     "output_type": "display_data"
    },
    {
     "data": {
      "application/vnd.jupyter.widget-view+json": {
       "model_id": "db51bef5cbc64f5dbf5a58bdde7d6c65",
       "version_major": 2,
       "version_minor": 0
      },
      "text/plain": [
       "Label(value='Thermal Calculation')"
      ]
     },
     "metadata": {},
     "output_type": "display_data"
    },
    {
     "data": {
      "application/vnd.jupyter.widget-view+json": {
       "model_id": "8d91d0d582db4261baa1d46fdce01385",
       "version_major": 2,
       "version_minor": 0
      },
      "text/plain": [
       "Button(description='Calculate', style=ButtonStyle())"
      ]
     },
     "metadata": {},
     "output_type": "display_data"
    },
    {
     "data": {
      "application/vnd.jupyter.widget-view+json": {
       "model_id": "928677b9a43847f491b81cdb956e7940",
       "version_major": 2,
       "version_minor": 0
      },
      "text/plain": [
       "Textarea(value='', layout=Layout(height='100px', width='600px'))"
      ]
     },
     "metadata": {},
     "output_type": "display_data"
    },
    {
     "data": {
      "application/vnd.jupyter.widget-view+json": {
       "model_id": "c61aafe23c9f4557906b3d0b3bb2cca8",
       "version_major": 2,
       "version_minor": 0
      },
      "text/plain": [
       "Label(value='Radiation Calculation')"
      ]
     },
     "metadata": {},
     "output_type": "display_data"
    },
    {
     "data": {
      "application/vnd.jupyter.widget-view+json": {
       "model_id": "1108f9d6a3044bacbcda593110dbeaed",
       "version_major": 2,
       "version_minor": 0
      },
      "text/plain": [
       "Button(description='Calculate', style=ButtonStyle())"
      ]
     },
     "metadata": {},
     "output_type": "display_data"
    },
    {
     "data": {
      "application/vnd.jupyter.widget-view+json": {
       "model_id": "d1b27b0aae4646d8989680ce002d8346",
       "version_major": 2,
       "version_minor": 0
      },
      "text/plain": [
       "Textarea(value='', layout=Layout(height='100px', width='600px'))"
      ]
     },
     "metadata": {},
     "output_type": "display_data"
    }
   ],
   "source": [
    "import numpy as np\n",
    "import ipywidgets as widgets\n",
    "from ipyleaflet import Map, Marker, AwesomeIcon, Icon\n",
    "from IPython.display import display\n",
    "from glasstone.overpressure import brode_overpressure\n",
    "from Thermal import Thermal_Fluence\n",
    "from Underwater_OP import UOP\n",
    "from glasstone.radiation import glasstone_summary\n",
    "from glasstone.utilities import convert_units, ValueOutsideGraphError\n",
    "\n",
    "# Add checkbox for underwater vs free air\n",
    "Scenario_Selector = widgets.Checkbox(\n",
    "    description='Check if it is an underwater detonation',\n",
    "    disabled=False,\n",
    "    indent=False\n",
    ")\n",
    "display(Scenario_Selector)\n",
    "\n",
    "Yield=None\n",
    "\n",
    "def store_value(button):\n",
    "    global Yield\n",
    "    Yield=yield_input.value\n",
    "    Yield=int(Yield)\n",
    "    yield_text.value=f\"Input Yield={Yield} kt\"\n",
    "\n",
    "def store_value2(button):\n",
    "    global Z\n",
    "    Z = HOB_input.value + np.random.uniform(0,25)\n",
    "    Z=int(Z)\n",
    "    HOB_text.value=f\"Input Height Burst={Z} m\"\n",
    "\n",
    "\n",
    "# Function to calculate distance between two coordinates\n",
    "def calculate_distance(coord1, coord2):\n",
    "    x1, y1 = coord1\n",
    "    x2, y2 = coord2\n",
    "    distance = np.sqrt((x2 - x1)**2 + (y2 - y1)**2) * 111320 # Conversion from degrees to m\n",
    "    return distance\n",
    "\n",
    "# Function to add a new ship icon\n",
    "def add_ship(icon_type, ship_color, ship_type, initial_location):\n",
    "    while True:\n",
    "        # Generate random location within the map boundaries\n",
    "        random_location = [\n",
    "            main_icon.location[0] + np.random.uniform(-0.01, 0.01),\n",
    "            main_icon.location[1] + np.random.uniform(-0.01, 0.01)\n",
    "        ]\n",
    "\n",
    "        # Check distance from existing icons\n",
    "        too_close = False\n",
    "        for icon in secondary_icons:\n",
    "            distance = calculate_distance(icon.location, random_location)\n",
    "            if distance < 100:\n",
    "                too_close = True\n",
    "                break\n",
    "\n",
    "        if not too_close:\n",
    "            break\n",
    "\n",
    "    new_icon = Marker(\n",
    "        location=random_location,\n",
    "        draggable=True,\n",
    "        icon=Icon(icon_url=icon_type, icon_size=[50, 50],marker_color=ship_color, icon_color='white')\n",
    "    )\n",
    "    secondary_icons.append(new_icon)\n",
    "    secondary_ship_types[new_icon] = ship_type\n",
    "    m.add_layer(new_icon)\n",
    "\n",
    "# Function to handle main icon movement\n",
    "def on_main_icon_move(event, main_icon):\n",
    "    main_icon.location = event['new']\n",
    "\n",
    "# Function to finalize ship location and calculate distances\n",
    "def finalize_ship_location(button):\n",
    "    global distances\n",
    "    global distances1\n",
    "    # Move main icon to average position of 100 random movements within 50 meters of the original position\n",
    "    main_icon_location = main_icon.location\n",
    "    for _ in range(100):\n",
    "        random_location = [\n",
    "            main_icon_location[0] + np.random.uniform(-0.0001, 0.0001),\n",
    "            main_icon_location[1] + np.random.uniform(-0.0001, 0.0001)\n",
    "        ]\n",
    "        distance = calculate_distance(main_icon_location, random_location)\n",
    "\n",
    "        if distance <= 50:\n",
    "            main_icon_location = random_location\n",
    "\n",
    "    main_icon.location = main_icon_location\n",
    "\n",
    "    # Calculate distances from main icon to all secondary icons\n",
    "    distances = []\n",
    "    distances1 = []\n",
    "    for icon in secondary_icons:\n",
    "        distance = calculate_distance(main_icon.location, icon.location)\n",
    "        distances.append(distance)\n",
    "        distances1.append((secondary_ship_types[icon], distance))\n",
    "\n",
    "    distances=np.array(distances)\n",
    "    #Display distances in the text widget1\n",
    "    distances_text.value = \"\\n\".join(f\"{ship}: {distance:.2f} meters\" for ship, distance in distances1)\n",
    "\n",
    "# Function to handle map change\n",
    "def on_map_change(change):\n",
    "    if change['name'] == 'center':\n",
    "        main_icon.location = change['new']\n",
    "\n",
    "def calculate(button):\n",
    "    global OP\n",
    "    OP=[]\n",
    "    OP1 = []\n",
    "    if Scenario_Selector.value==False:\n",
    "        for icon in secondary_icons:\n",
    "            distance = calculate_distance(main_icon.location, icon.location)\n",
    "            OP=brode_overpressure(Yield,distance,Z)\n",
    "            OP=convert_units(OP,'kg/cm^2' ,'psi')\n",
    "            OP1.append((secondary_ship_types[icon], OP))\n",
    "\n",
    "        #distances=np.array(distances)\n",
    "        OP_text.value = \"\\n\".join(f\"{ship}: {OP:.2f} psi\" for ship, OP in OP1)\n",
    "        \n",
    "    elif ((Scenario_Selector.value==True) and (map_selection_dropdown.value == 'Pearl Harbor')):\n",
    "        for icon in secondary_icons:\n",
    "            distance = calculate_distance(main_icon.location, icon.location)\n",
    "            D_w = 14\n",
    "            OP=UOP(Yield,distance,Z,D_w)\n",
    "            OP1.append((secondary_ship_types[icon], OP))\n",
    "             #distances=np.array(distances)\n",
    "        OP_text.value = \"\\n\".join(f\"{ship}: {OP:.2f} psi\" for ship, OP in OP1)\n",
    "            \n",
    "    elif ((Scenario_Selector.value==True) and (map_selection_dropdown.value == 'Norfolk Naval Station, Virginia')):\n",
    "        for icon in secondary_icons:\n",
    "            distance = calculate_distance(main_icon.location, icon.location)\n",
    "            OP=2\n",
    "            OP1.append((secondary_ship_types[icon], OP))\n",
    "             #distances=np.array(distances)\n",
    "        OP_text.value = \"\\n\".join(f\"{ship}: {OP:.2f} psi\" for ship, OP in OP1)\n",
    "            \n",
    "    elif ((Scenario_Selector.value==True) and (map_selection_dropdown.value == 'Middle of the Atlantic Ocean')):\n",
    "        for icon in secondary_icons:\n",
    "            distance = calculate_distance(main_icon.location, icon.location)\n",
    "            OP=3\n",
    "            OP1.append((secondary_ship_types[icon], OP))\n",
    "             #distances=np.array(distances)\n",
    "        OP_text.value = \"\\n\".join(f\"{ship}: {OP:.2f} psi\" for ship, OP in OP1)\n",
    "            \n",
    "    elif ((Scenario_Selector.value==True) or (map_selection_dropdown.value == 'Middle of the Pacific Ocean')):\n",
    "        for icon in secondary_icons:\n",
    "            distance = calculate_distance(main_icon.location, icon.location)\n",
    "            OP=4\n",
    "            OP1.append((secondary_ship_types[icon], OP))\n",
    "\n",
    "        #distances=np.array(distances)\n",
    "        OP_text.value = \"\\n\".join(f\"{ship}: {OP:.2f} psi\" for ship, OP in OP1)\n",
    "\n",
    "def findf(Y,Z):\n",
    "    global f\n",
    "    zb=convert_units(Z,'m','kilofeet')\n",
    "    zb1=zb*1000\n",
    "    if Y<=1:\n",
    "        if zb1<= 20:\n",
    "            f=.19\n",
    "\n",
    "        elif zb1<= 40 and zb1>20:\n",
    "            f=.21\n",
    "\n",
    "        elif zb1<= 70 and zb1>40:\n",
    "            f=.23\n",
    "\n",
    "        elif zb1<= 100 and zb1>70:\n",
    "            f=.26\n",
    "\n",
    "        elif zb1<= 200 and zb1>100:\n",
    "            f=.35\n",
    "\n",
    "        elif zb1>= 200:\n",
    "            f=.35\n",
    "    elif Y>1 and Y<=10:\n",
    "        if zb1<= 20:\n",
    "            f=.18\n",
    "\n",
    "        elif zb1<= 40 and zb1>20:\n",
    "            f=.19\n",
    "\n",
    "        elif zb1<= 70 and zb1>40:\n",
    "            f=.21\n",
    "\n",
    "        elif zb1<= 100 and zb1>70:\n",
    "            f=.22\n",
    "\n",
    "        elif zb1<= 200 and zb1>100:\n",
    "            f=.25\n",
    "\n",
    "        elif zb1<= 400 and zb1>200:\n",
    "            f=.33\n",
    "\n",
    "        elif zb1>= 400:\n",
    "            f=.35\n",
    "\n",
    "    elif Y>10:\n",
    "        if zb1<= 40:\n",
    "            f=.18\n",
    "\n",
    "        elif zb1<= 70 and zb1>40:\n",
    "            f=.19\n",
    "\n",
    "        elif zb1<= 100 and zb1>70:\n",
    "            f=.20\n",
    "\n",
    "        elif zb1<= 200 and zb1>100:\n",
    "            f=.21\n",
    "\n",
    "        elif zb1<= 400 and zb1>200:\n",
    "            f=.25\n",
    "\n",
    "        elif zb1<= 700 and zb1>400:\n",
    "            f=.28\n",
    "\n",
    "        elif zb1<= 1000 and zb1>700:\n",
    "            f=.34 \n",
    "\n",
    "        elif zb1>= 1000:\n",
    "            f=.35\n",
    "\n",
    "    return f\n",
    "\n",
    "\n",
    "def calculate2(button):\n",
    "    global Thermal\n",
    "    global Thermal1\n",
    "    Thermal = []\n",
    "    Thermal1=[]\n",
    "    f=findf(Yield,Z)\n",
    "    if Scenario_Selector.value==False:\n",
    "        for icon in secondary_icons:\n",
    "            distance = calculate_distance(main_icon.location, icon.location)\n",
    "            Thermal=Thermal_Fluence(Yield,distance,Z,f)\n",
    "            Thermal1.append((secondary_ship_types[icon], Thermal))\n",
    "\n",
    "        Therm_text.value = \"\\n\".join(f\"{ship}: {Thermal:.2f} cal/cm^2\" for ship, Thermal in Thermal1)\n",
    "    else:\n",
    "        for icon in secondary_icons:\n",
    "            distance = calculate_distance(main_icon.location, icon.location)\n",
    "            Thermal=0\n",
    "            Thermal1.append((secondary_ship_types[icon], Thermal))\n",
    "\n",
    "        Therm_text.value = \"\\n\".join(f\"{ship}: {Thermal:.2f} cal/cm^2\" for ship, Thermal in Thermal1)\n",
    "\n",
    "def calculate3(button):\n",
    "    global Radiation\n",
    "    global Rad1\n",
    "    Radiation = []\n",
    "    Rad1=[]\n",
    "    for icon in secondary_icons:\n",
    "        distance = calculate_distance(main_icon.location, icon.location)\n",
    "        sr = (distance**2+Z**2)**.5\n",
    "        if sr<500:\n",
    "            sr = 500\n",
    "        if convert_units(Z,'m','kilofeet')*1000>300:\n",
    "            s=False\n",
    "        elif convert_units(Z,'m','kilofeet')*1000<=300:\n",
    "            s=True\n",
    "        Radiation=glasstone_summary(Yield,sr,Z,offense=False,surface=s)*.877\n",
    "        Rad1.append((secondary_ship_types[icon],Radiation))\n",
    "\n",
    "    #distances=np.array(distances)\n",
    "    Rad_text.value = \"\\n\".join(f\"{ship}: {Radiation:.2f} rads\" for ship, Radiation in Rad1)\n",
    "\n",
    "# Define initial locations for different maps\n",
    "initial_locations = {\n",
    "    \"Pearl Harbor\": [21.3445, -157.9746],\n",
    "    \"Norfolk Naval Station, Virginia\": [36.9375, -76.3186],\n",
    "    \"Middle of the Atlantic Ocean\": [27.4076, -40.3018],\n",
    "    \"Middle of the Pacific Ocean\": [27.3897, 166.5527]\n",
    "}\n",
    "\n",
    "# Create map selection dropdown widget\n",
    "map_selection_dropdown = widgets.Dropdown(\n",
    "    options=list(initial_locations.keys()),\n",
    "    description='Select Map:',\n",
    "    disabled=False\n",
    ")\n",
    "\n",
    "# Create main map\n",
    "m = Map(center=initial_locations[map_selection_dropdown.value], zoom=15, layout=dict(height='600px'))\n",
    "\n",
    "# Main icon\n",
    "main_icon = Marker(\n",
    "    location=initial_locations[map_selection_dropdown.value],\n",
    "    draggable=True,\n",
    "    icon=AwesomeIcon(name='circle', marker_color='red', icon_color='white')\n",
    ")\n",
    "\n",
    "# Initialize secondary icons list and ship types dictionary\n",
    "secondary_icons = []\n",
    "secondary_ship_types = {}\n",
    "\n",
    "# Event handler for main icon movement\n",
    "main_icon.observe(lambda event: on_main_icon_move(event, main_icon), names='location')\n",
    "\n",
    "# Event handler for map change\n",
    "m.observe(on_map_change)\n",
    "\n",
    "# Event handler for map selection change\n",
    "def on_map_selection_change(change):\n",
    "    m.center = initial_locations[change['new']]\n",
    "    main_icon.location = initial_locations[change['new']]\n",
    "\n",
    "# Bind event handler to map selection dropdown\n",
    "map_selection_dropdown.observe(on_map_selection_change, names='value')\n",
    "\n",
    "# Add main icon to the map\n",
    "m.add_layer(main_icon)\n",
    "\n",
    "# Display the map selection dropdown\n",
    "display(map_selection_dropdown)\n",
    "\n",
    "# Display for the yield input\n",
    "Yield_text=widgets.Label(value='Yield Input (kt):')\n",
    "display(Yield_text)\n",
    "yield_input = widgets.FloatText()\n",
    "yieldbutton = widgets.Button(description=\"Enter\")\n",
    "yieldbutton.on_click(store_value)\n",
    "\n",
    "# Display the KT input\n",
    "display(yield_input)\n",
    "display(yieldbutton)\n",
    "\n",
    "# Text widget to display yield\n",
    "yield_text = widgets.Textarea(layout={'height': '50px', 'width': '200px'})\n",
    "display(yield_text)\n",
    "\n",
    "# Display for HOB input\n",
    "HOB_text=widgets.Label(value='Height/Depth of Burst Input (m):')\n",
    "display(HOB_text)\n",
    "HOB_input = widgets.FloatText()\n",
    "HOBbutton = widgets.Button(description=\"Enter\")\n",
    "HOBbutton.on_click(store_value2)\n",
    "\n",
    "# Display the HOB input\n",
    "display(HOB_input)\n",
    "display(HOBbutton)\n",
    "\n",
    "# Text widget to display HOB\n",
    "HOB_text = widgets.Textarea(layout={'height': '50px', 'width': '200px'})\n",
    "display(HOB_text)\n",
    "\n",
    "# Display the map\n",
    "display(m)\n",
    "\n",
    "# Event handler to add a carrier icon\n",
    "def add_carrier(button):\n",
    "    add_ship('https://upload.wikimedia.org/wikipedia/commons/6/6e/NATO_Map_Symbol_-_Friendly_Sea_-_Aircraft_Carrier.svg','blue', 'Carrier', m.center)\n",
    "\n",
    "# Event handler to add a cruiser icon\n",
    "def add_cruiser(button):\n",
    "    add_ship('green', 'Cruiser', m.center)\n",
    "\n",
    "# Event handler to add a destroyer icon\n",
    "def add_destroyer(button):\n",
    "    add_ship('black', 'Destroyer', m.center)\n",
    "\n",
    "# Event handler to add a supply ship icon\n",
    "def add_supply_ship(button):\n",
    "    add_ship('white', 'Supply Ship', m.center)\n",
    "\n",
    "\n",
    "def clear_ships(button):\n",
    "    for icon in secondary_icons:\n",
    "        m.remove_layer(icon)\n",
    "    secondary_icons.clear()\n",
    "\n",
    "# Add clear button\n",
    "clear_button = widgets.Button(description=\"Clear Ships\")\n",
    "clear_button.on_click(clear_ships)\n",
    "\n",
    "# Add clear button to the display\n",
    "display(clear_button)\n",
    "\n",
    "# Add secondary icon buttons\n",
    "add_carrier_button = widgets.Button(description=\"Add Carrier\")\n",
    "add_carrier_button.on_click(add_carrier)\n",
    "add_cruiser_button = widgets.Button(description=\"Add Cruiser\")\n",
    "add_cruiser_button.on_click(add_cruiser)\n",
    "add_destroyer_button = widgets.Button(description=\"Add Destroyer\")\n",
    "add_destroyer_button.on_click(add_destroyer)\n",
    "add_supply_ship_button = widgets.Button(description=\"Add Supply Ship\")\n",
    "add_supply_ship_button.on_click(add_supply_ship)\n",
    "\n",
    "# Display buttons\n",
    "ship_buttons = widgets.HBox([add_carrier_button, add_cruiser_button, add_destroyer_button, add_supply_ship_button])\n",
    "display(ship_buttons)\n",
    "# Display finalize ship location button\n",
    "finalize_button = widgets.Button(description=\"Finalize Ship Location\")\n",
    "finalize_button.on_click(finalize_ship_location)\n",
    "display(finalize_button)\n",
    "\n",
    "# Text widget to display distances\n",
    "distances_text = widgets.Textarea(layout={'height': '100px', 'width': '600px'})\n",
    "display(distances_text)\n",
    "\n",
    "#OVERPRESSURE BUTTON\n",
    "OP_text=widgets.Label(value='Peak Overpressure Calculation')\n",
    "display(OP_text)\n",
    "OPbutton = widgets.Button(description=\"Calculate\")\n",
    "OPbutton.on_click(calculate)\n",
    "\n",
    "# Display the OP output\n",
    "display(OPbutton)\n",
    "OP_text = widgets.Textarea(layout={'height': '100px', 'width': '600px'})\n",
    "display(OP_text)\n",
    "\n",
    "#THERMAL BUTTON\n",
    "Therm_text=widgets.Label(value='Thermal Calculation')\n",
    "display(Therm_text)\n",
    "Thermbutton = widgets.Button(description=\"Calculate\")\n",
    "Thermbutton.on_click(calculate2)\n",
    "\n",
    "# Display the Thermal Output\n",
    "display(Thermbutton)\n",
    "Therm_text = widgets.Textarea(layout={'height': '100px', 'width': '600px'})\n",
    "display(Therm_text)\n",
    "\n",
    "#Radiation BUTTON\n",
    "Rad_text=widgets.Label(value='Radiation Calculation')\n",
    "display(Rad_text)\n",
    "Radbutton = widgets.Button(description=\"Calculate\")\n",
    "Radbutton.on_click(calculate3)\n",
    "\n",
    "# Display the Radiation Output\n",
    "display(Radbutton)\n",
    "Rad_text = widgets.Textarea(layout={'height': '100px', 'width': '600px'})\n",
    "display(Rad_text)"
   ]
  },
  {
   "cell_type": "code",
   "execution_count": 9,
   "id": "3037ba7d",
   "metadata": {},
   "outputs": [
    {
     "data": {
      "text/plain": [
       "'Pearl Harbor'"
      ]
     },
     "execution_count": 9,
     "metadata": {},
     "output_type": "execute_result"
    }
   ],
   "source": [
    "map_selection_dropdown.value"
   ]
  }
 ],
 "metadata": {
  "kernelspec": {
   "display_name": "Python 3 (ipykernel)",
   "language": "python",
   "name": "python3"
  },
  "language_info": {
   "codemirror_mode": {
    "name": "ipython",
    "version": 3
   },
   "file_extension": ".py",
   "mimetype": "text/x-python",
   "name": "python",
   "nbconvert_exporter": "python",
   "pygments_lexer": "ipython3",
   "version": "3.11.4"
  }
 },
 "nbformat": 4,
 "nbformat_minor": 5
}
